{
 "cells": [
  {
   "cell_type": "markdown",
   "metadata": {},
   "source": [
    "# Protection of personal data of customers"
   ]
  },
  {
   "cell_type": "markdown",
   "metadata": {},
   "source": [
    "You need to protect the data of customers of the insurance company \"Though the Flood\". Develop a data transformation method that makes it difficult to recover personal information from it. Justify the correctness of his work.\n",
    "\n",
    "You need to protect the data so that the quality of the machine learning models does not deteriorate during the transformation. There is no need to select the best model."
   ]
  },
  {
   "cell_type": "markdown",
   "metadata": {},
   "source": [
    "## 1. Loading data"
   ]
  },
  {
   "cell_type": "code",
   "execution_count": 5,
   "metadata": {},
   "outputs": [],
   "source": [
    "import pandas as pd\n",
    "import numpy as np\n",
    "from sklearn.metrics import r2_score\n",
    "from sklearn.linear_model import LinearRegression\n",
    "from sklearn.metrics import mean_squared_error\n",
    "from itertools import product"
   ]
  },
  {
   "cell_type": "code",
   "execution_count": 6,
   "metadata": {},
   "outputs": [
    {
     "data": {
      "text/html": [
       "<div>\n",
       "<style scoped>\n",
       "    .dataframe tbody tr th:only-of-type {\n",
       "        vertical-align: middle;\n",
       "    }\n",
       "\n",
       "    .dataframe tbody tr th {\n",
       "        vertical-align: top;\n",
       "    }\n",
       "\n",
       "    .dataframe thead th {\n",
       "        text-align: right;\n",
       "    }\n",
       "</style>\n",
       "<table border=\"1\" class=\"dataframe\">\n",
       "  <thead>\n",
       "    <tr style=\"text-align: right;\">\n",
       "      <th></th>\n",
       "      <th>Пол</th>\n",
       "      <th>Возраст</th>\n",
       "      <th>Зарплата</th>\n",
       "      <th>Члены семьи</th>\n",
       "      <th>Страховые выплаты</th>\n",
       "    </tr>\n",
       "  </thead>\n",
       "  <tbody>\n",
       "    <tr>\n",
       "      <th>0</th>\n",
       "      <td>1</td>\n",
       "      <td>41.0</td>\n",
       "      <td>49600.0</td>\n",
       "      <td>1</td>\n",
       "      <td>0</td>\n",
       "    </tr>\n",
       "    <tr>\n",
       "      <th>1</th>\n",
       "      <td>0</td>\n",
       "      <td>46.0</td>\n",
       "      <td>38000.0</td>\n",
       "      <td>1</td>\n",
       "      <td>1</td>\n",
       "    </tr>\n",
       "    <tr>\n",
       "      <th>2</th>\n",
       "      <td>0</td>\n",
       "      <td>29.0</td>\n",
       "      <td>21000.0</td>\n",
       "      <td>0</td>\n",
       "      <td>0</td>\n",
       "    </tr>\n",
       "    <tr>\n",
       "      <th>3</th>\n",
       "      <td>0</td>\n",
       "      <td>21.0</td>\n",
       "      <td>41700.0</td>\n",
       "      <td>2</td>\n",
       "      <td>0</td>\n",
       "    </tr>\n",
       "    <tr>\n",
       "      <th>4</th>\n",
       "      <td>1</td>\n",
       "      <td>28.0</td>\n",
       "      <td>26100.0</td>\n",
       "      <td>0</td>\n",
       "      <td>0</td>\n",
       "    </tr>\n",
       "    <tr>\n",
       "      <th>...</th>\n",
       "      <td>...</td>\n",
       "      <td>...</td>\n",
       "      <td>...</td>\n",
       "      <td>...</td>\n",
       "      <td>...</td>\n",
       "    </tr>\n",
       "    <tr>\n",
       "      <th>4995</th>\n",
       "      <td>0</td>\n",
       "      <td>28.0</td>\n",
       "      <td>35700.0</td>\n",
       "      <td>2</td>\n",
       "      <td>0</td>\n",
       "    </tr>\n",
       "    <tr>\n",
       "      <th>4996</th>\n",
       "      <td>0</td>\n",
       "      <td>34.0</td>\n",
       "      <td>52400.0</td>\n",
       "      <td>1</td>\n",
       "      <td>0</td>\n",
       "    </tr>\n",
       "    <tr>\n",
       "      <th>4997</th>\n",
       "      <td>0</td>\n",
       "      <td>20.0</td>\n",
       "      <td>33900.0</td>\n",
       "      <td>2</td>\n",
       "      <td>0</td>\n",
       "    </tr>\n",
       "    <tr>\n",
       "      <th>4998</th>\n",
       "      <td>1</td>\n",
       "      <td>22.0</td>\n",
       "      <td>32700.0</td>\n",
       "      <td>3</td>\n",
       "      <td>0</td>\n",
       "    </tr>\n",
       "    <tr>\n",
       "      <th>4999</th>\n",
       "      <td>1</td>\n",
       "      <td>28.0</td>\n",
       "      <td>40600.0</td>\n",
       "      <td>1</td>\n",
       "      <td>0</td>\n",
       "    </tr>\n",
       "  </tbody>\n",
       "</table>\n",
       "<p>5000 rows × 5 columns</p>\n",
       "</div>"
      ],
      "text/plain": [
       "      Пол  Возраст  Зарплата  Члены семьи  Страховые выплаты\n",
       "0       1     41.0   49600.0            1                  0\n",
       "1       0     46.0   38000.0            1                  1\n",
       "2       0     29.0   21000.0            0                  0\n",
       "3       0     21.0   41700.0            2                  0\n",
       "4       1     28.0   26100.0            0                  0\n",
       "...   ...      ...       ...          ...                ...\n",
       "4995    0     28.0   35700.0            2                  0\n",
       "4996    0     34.0   52400.0            1                  0\n",
       "4997    0     20.0   33900.0            2                  0\n",
       "4998    1     22.0   32700.0            3                  0\n",
       "4999    1     28.0   40600.0            1                  0\n",
       "\n",
       "[5000 rows x 5 columns]"
      ]
     },
     "execution_count": 6,
     "metadata": {},
     "output_type": "execute_result"
    }
   ],
   "source": [
    "data = pd.read_csv('/datasets/insurance.csv')\n",
    "data"
   ]
  },
  {
   "cell_type": "code",
   "execution_count": 7,
   "metadata": {},
   "outputs": [
    {
     "data": {
      "text/plain": [
       "Пол                  0\n",
       "Возраст              0\n",
       "Зарплата             0\n",
       "Члены семьи          0\n",
       "Страховые выплаты    0\n",
       "dtype: int64"
      ]
     },
     "execution_count": 7,
     "metadata": {},
     "output_type": "execute_result"
    }
   ],
   "source": [
    "data.isna().sum()"
   ]
  },
  {
   "cell_type": "code",
   "execution_count": 9,
   "metadata": {},
   "outputs": [],
   "source": [
    "features = data.drop('Страховые выплаты', axis=1) #Insurance payouts\n",
    "target = data['Страховые выплаты'] #Insurance payments"
   ]
  },
  {
   "cell_type": "markdown",
   "metadata": {},
   "source": [
    "## 2. Matrix multiplication"
   ]
  },
  {
   "cell_type": "markdown",
   "metadata": {},
   "source": [
    "Designations:\n",
    "\n",
    "- $X$ - feature matrix (zero column consists of ones)\n",
    "\n",
    "- $y$ — target feature vector\n",
    "\n",
    "- $P$ - is the matrix by which features are multiplied\n",
    "\n",
    "- $w$ — vector of linear regression weights (zero element equals shift)"
   ]
  },
  {
   "cell_type": "markdown",
   "metadata": {},
   "source": [
    "Predictions:\n",
    "\n",
    "$$\n",
    "a = Xw\n",
    "$$\n",
    "\n",
    "Learning objective:\n",
    "\n",
    "$$\n",
    "w = \\arg\\min_w MSE(Xw, y)\n",
    "$$\n",
    "\n",
    "Learning formula:\n",
    "\n",
    "$$\n",
    "w = (X^T X)^{-1} X^T y\n",
    "$$"
   ]
  },
  {
   "cell_type": "markdown",
   "metadata": {},
   "source": [
    "**Answer:** Will not change.\n",
    "$$\n",
    "w' = P^{-1}w\n",
    "$$\n",
    "\n",
    "**Rationale:** The vector of linear regression weights is the same in both cases"
   ]
  },
  {
   "cell_type": "markdown",
   "metadata": {},
   "source": [
    "## 3. Conversion algorithm"
   ]
  },
  {
   "cell_type": "markdown",
   "metadata": {},
   "source": [
    "**Algorithm**\n",
    "\n",
    "Linear regression, to find a straight line with the desired coefficients, uses the formula\n",
    "$$\n",
    "w = (X^T X)^{-1} X^T y\n",
    "$$\n",
    "\n",
    "where X is a matrix with features, y is a target feature vector, 𝑤 is a vector of linear regression coefficients\n",
    "\n",
    "$$\n",
    "w^{0} = ((XY)^{T}XY^{-1})(XY)^{T}y\n",
    "$$\n",
    "\n",
    "\n",
    "$$\n",
    "a = Xw\n",
    "$$\n",
    "\n",
    "Where a - vectors of predictions trained on X\n",
    "\n",
    "$$\n",
    "a' = w^{0}XY\n",
    "$$\n",
    "\n",
    "where Y is a random invertible matrix the same size as X, $a^{0}$- vectors of predictions trained on XY\n",
    "\n",
    "$$\n",
    "a = a^{0}\n",
    "$$"
   ]
  },
  {
   "cell_type": "markdown",
   "metadata": {},
   "source": [
    "**Rationale**\n",
    "Using the property of multiplying a matrix by its inverse - there is an identity matrix\n",
    "$$\n",
    "a = (X^T X)^{-1} X^T yT = y(X^T X)^{-1} X^TX = yE = y\n",
    "$$\n",
    "\n",
    "E - identity matrix\n",
    "\n",
    "$$\n",
    "MSE = \\frac1n\\sum _{i=1}^{n}(a_{i}-{y_{i}})^{2} = 0\n",
    "$$\n",
    "\n",
    "Let's check what happens if we do the same with $a^{0}$\n",
    "\n",
    "$$\n",
    "a^{0} = ((XY)^{T}XY^{-1}(XY)^{T}yXY = y((XY)^{T}XY^{-1}((XY)^{ T}XY) = yE = y\n",
    "$$\n",
    "\n",
    "$$\n",
    "MSE = \\frac1n\\sum _{i=1}^{n}(a_{i}^{0}-{y_{i}})^{2} = 0\n",
    "$$\n",
    "\n",
    "$a = y$, $a^{0} = y$\n",
    "Now we can say with reconciliation that our predictions are equal to the target feature"
   ]
  },
  {
   "cell_type": "code",
   "execution_count": 11,
   "metadata": {},
   "outputs": [
    {
     "name": "stdout",
     "output_type": "stream",
     "text": [
      "[[0.38147368 0.90000264 0.34198635 0.67299682 0.15591154]\n",
      " [0.5622855  0.38861365 0.85381575 0.53453338 0.27683409]\n",
      " [0.70382097 0.13411873 0.69792014 0.28437123 0.89200652]\n",
      " [0.57921709 0.62566856 0.40946283 0.71672926 0.15117336]\n",
      " [0.20181158 0.53300872 0.23111341 0.34903386 0.34381551]]\n"
     ]
    }
   ],
   "source": [
    "x = np.random.rand(5,5)\n",
    "a = 0\n",
    "for comb in range(10):\n",
    "    try:\n",
    "        print(x)\n",
    "        inverse = np.linalg.inv(x)\n",
    "    except np.linalg.LinAlgError:\n",
    "        pass\n",
    "    else:\n",
    "        a = x\n",
    "        break"
   ]
  },
  {
   "cell_type": "code",
   "execution_count": 12,
   "metadata": {},
   "outputs": [
    {
     "data": {
      "text/plain": [
       "array([[  9.04536439,  -2.56125257,   4.00758646,  -2.69349239,\n",
       "        -11.2526733 ],\n",
       "       [  8.12474977,  -1.00370455,   2.03216551,  -4.73172342,\n",
       "         -6.06801292],\n",
       "       [  0.2660681 ,   2.34535564,  -0.52392141,  -1.87646183,\n",
       "          0.17525351],\n",
       "       [-13.66643613,   1.64577686,  -4.61520282,   8.43361272,\n",
       "         13.13786388],\n",
       "       [ -4.21000426,  -0.18789514,  -0.4653426 ,   1.61623574,\n",
       "          5.46560818]])"
      ]
     },
     "execution_count": 12,
     "metadata": {},
     "output_type": "execute_result"
    }
   ],
   "source": [
    "np.linalg.inv(x)"
   ]
  },
  {
   "cell_type": "code",
   "execution_count": 13,
   "metadata": {},
   "outputs": [
    {
     "data": {
      "text/plain": [
       "array([[1., 0., 0., 0., 0.],\n",
       "       [0., 1., 0., 0., 0.],\n",
       "       [0., 0., 1., 0., 0.],\n",
       "       [0., 0., 0., 1., 0.],\n",
       "       [0., 0., 0., 0., 1.]])"
      ]
     },
     "execution_count": 13,
     "metadata": {},
     "output_type": "execute_result"
    }
   ],
   "source": [
    "np.eye(5)"
   ]
  },
  {
   "cell_type": "markdown",
   "metadata": {},
   "source": [
    "## 4. Checking the algorithm"
   ]
  },
  {
   "cell_type": "code",
   "execution_count": 16,
   "metadata": {},
   "outputs": [
    {
     "name": "stdout",
     "output_type": "stream",
     "text": [
      "R2- 0.42494550286668\n"
     ]
    }
   ],
   "source": [
    "class LinearRegression:\n",
    "    def fit(self, train_features, train_target):\n",
    "        X = np.concatenate((np.ones((train_features.shape[0], 1)), train_features), axis=1)\n",
    "        y = train_target\n",
    "        w = np.linalg.inv(X.T.dot(X)).dot(X.T).dot(y)\n",
    "        self.w = w[1:]\n",
    "        self.w0 = w[0]\n",
    "\n",
    "    def predict(self, test_features):\n",
    "         return test_features.dot(self.w) + self.w0\n",
    "    \n",
    "model = LinearRegression()\n",
    "model.fit(features, target)\n",
    "predictions = model.predict(features)\n",
    "print('R2-', r2_score(target, predictions))"
   ]
  },
  {
   "cell_type": "code",
   "execution_count": 17,
   "metadata": {},
   "outputs": [
    {
     "name": "stdout",
     "output_type": "stream",
     "text": [
      "R2_encryption- 0.35734804422455835\n"
     ]
    }
   ],
   "source": [
    "class LinearRegression1:\n",
    "    def fit(self, train_features, train_target):\n",
    "        X = np.concatenate((np.ones((train_features.shape[0], 1)), train_features), axis=1)\n",
    "        Y = a\n",
    "        y = train_target\n",
    "        w  = np.dot(np.linalg.inv(np.dot((np.dot(X, Y)).T, np.dot(X, Y))), np.dot((np.dot(X, Y)).T, y))\n",
    "        self.w = w[1:]\n",
    "        self.w0 = w[0]\n",
    "\n",
    "    def predict(self, test_features):\n",
    "        print(test_features)\n",
    "        return test_features.dot(self.w) + self.w0\n",
    "    \n",
    "features_new = features.dot(a[1:])    \n",
    "model1 = LinearRegression()\n",
    "model1.fit(features_new, target)\n",
    "predictions1 = model1.predict(features_new)\n",
    "print('R2_encryption-', r2_score(target, predictions1))"
   ]
  },
  {
   "cell_type": "code",
   "execution_count": 18,
   "metadata": {},
   "outputs": [],
   "source": [
    "features_new = features.dot(a[1:,1:])"
   ]
  },
  {
   "cell_type": "code",
   "execution_count": 19,
   "metadata": {},
   "outputs": [
    {
     "name": "stdout",
     "output_type": "stream",
     "text": [
      "R2_encryption- 0.4249455028663408\n"
     ]
    }
   ],
   "source": [
    "model1 = LinearRegression()\n",
    "model1.fit(features_new, target)\n",
    "predictions1 = model1.predict(features_new)\n",
    "print('R2_encryption-', r2_score(target, predictions1))"
   ]
  },
  {
   "cell_type": "markdown",
   "metadata": {},
   "source": [
    "********************************"
   ]
  },
  {
   "cell_type": "markdown",
   "metadata": {},
   "source": [
    "Coefficient of determination is close to zero"
   ]
  },
  {
   "cell_type": "code",
   "execution_count": null,
   "metadata": {},
   "outputs": [],
   "source": [
    " "
   ]
  }
 ],
 "metadata": {
  "ExecuteTimeLog": [
   {
    "duration": 1101,
    "start_time": "2022-10-06T23:43:49.584Z"
   },
   {
    "duration": 110,
    "start_time": "2022-10-06T23:43:53.961Z"
   },
   {
    "duration": 6,
    "start_time": "2022-10-06T23:43:56.476Z"
   },
   {
    "duration": 106,
    "start_time": "2022-10-06T23:44:05.765Z"
   },
   {
    "duration": 3,
    "start_time": "2022-10-06T23:44:21.368Z"
   },
   {
    "duration": 36,
    "start_time": "2022-10-06T23:44:21.834Z"
   },
   {
    "duration": 5,
    "start_time": "2022-10-06T23:44:22.534Z"
   },
   {
    "duration": 11,
    "start_time": "2022-10-06T23:44:23.138Z"
   },
   {
    "duration": 3,
    "start_time": "2022-10-06T23:44:28.724Z"
   },
   {
    "duration": 5,
    "start_time": "2022-10-06T23:47:31.874Z"
   },
   {
    "duration": 4,
    "start_time": "2022-10-06T23:47:36.757Z"
   },
   {
    "duration": 4,
    "start_time": "2022-10-06T23:47:37.304Z"
   },
   {
    "duration": 5,
    "start_time": "2022-10-06T23:47:44.414Z"
   },
   {
    "duration": 4,
    "start_time": "2022-10-06T23:48:18.701Z"
   },
   {
    "duration": 9,
    "start_time": "2022-10-06T23:48:29.523Z"
   },
   {
    "duration": 9,
    "start_time": "2022-10-06T23:48:43.343Z"
   },
   {
    "duration": 4,
    "start_time": "2022-10-06T23:48:45.570Z"
   },
   {
    "duration": 5,
    "start_time": "2022-10-06T23:48:51.676Z"
   }
  ],
  "kernelspec": {
   "display_name": "Python 3 (ipykernel)",
   "language": "python",
   "name": "python3"
  },
  "language_info": {
   "codemirror_mode": {
    "name": "ipython",
    "version": 3
   },
   "file_extension": ".py",
   "mimetype": "text/x-python",
   "name": "python",
   "nbconvert_exporter": "python",
   "pygments_lexer": "ipython3",
   "version": "3.9.5"
  },
  "toc": {
   "base_numbering": 1,
   "nav_menu": {},
   "number_sections": true,
   "sideBar": true,
   "skip_h1_title": false,
   "title_cell": "Table of Contents",
   "title_sidebar": "Contents",
   "toc_cell": false,
   "toc_position": {},
   "toc_section_display": true,
   "toc_window_display": false
  }
 },
 "nbformat": 4,
 "nbformat_minor": 2
}
